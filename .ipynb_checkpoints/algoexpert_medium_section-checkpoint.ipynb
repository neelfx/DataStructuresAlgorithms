{
 "cells": [
  {
   "cell_type": "markdown",
   "metadata": {},
   "source": [
    "# Three Number Sum\n",
    "\n",
    "Write a function that takes in a non-empty array of distinct integers and an integer representing a target sum. The function should find all triplets in the array that sum up to the target sum and return a two-dimensional array of all these triplets. The numbers in each triplet should be ordered in ascending order, and the triplets should be ordered in ascending order with respect to the numbers they hold.\n",
    "\n",
    "If no three numbers sum up to the target sum, the function should return an empty array."
   ]
  },
  {
   "cell_type": "code",
   "execution_count": 1,
   "metadata": {
    "ExecuteTime": {
     "end_time": "2021-01-24T22:39:31.343146Z",
     "start_time": "2021-01-24T22:39:31.336147Z"
    }
   },
   "outputs": [],
   "source": [
    "array = [12, 3, 1, 2, -6, -5, -8, 6]\n",
    "targetSum = 0"
   ]
  },
  {
   "cell_type": "code",
   "execution_count": 2,
   "metadata": {
    "ExecuteTime": {
     "end_time": "2021-01-24T22:39:32.293612Z",
     "start_time": "2021-01-24T22:39:32.250609Z"
    }
   },
   "outputs": [
    {
     "name": "stdout",
     "output_type": "stream",
     "text": [
      "Triplet is 4 ,  8 ,  10\n"
     ]
    },
    {
     "data": {
      "text/plain": [
       "True"
      ]
     },
     "execution_count": 2,
     "metadata": {},
     "output_type": "execute_result"
    }
   ],
   "source": [
    "def find3Numbers(A, arr_size, sum): \n",
    "  \n",
    "    # Sort the elements  \n",
    "    A.sort() \n",
    "  \n",
    "    # Now fix the first element  \n",
    "    # one by one and find the \n",
    "    # other two elements  \n",
    "    for i in range(0, arr_size-2): \n",
    "      \n",
    "  \n",
    "        # To find the other two elements, \n",
    "        # start two index variables from \n",
    "        # two corners of the array and \n",
    "        # move them toward each other \n",
    "          \n",
    "        # index of the first element \n",
    "        # in the remaining elements \n",
    "        l = i + 1 \n",
    "          \n",
    "        # index of the last element \n",
    "        r = arr_size-1 \n",
    "        while (l < r): \n",
    "          \n",
    "            if( A[i] + A[l] + A[r] == sum): \n",
    "                print(\"Triplet is\", A[i],  \n",
    "                     ', ', A[l], ', ', A[r]); \n",
    "                return True\n",
    "              \n",
    "            elif (A[i] + A[l] + A[r] < sum): \n",
    "                l += 1\n",
    "            else: # A[i] + A[l] + A[r] > sum \n",
    "                r -= 1\n",
    "  \n",
    "    # If we reach here, then \n",
    "    # no triplet was found \n",
    "    return False\n",
    "  \n",
    "# Driver program to test above function  \n",
    "A = [1, 4, 45, 6, 10, 8] \n",
    "sum = 22\n",
    "arr_size = len(A) \n",
    "  \n",
    "find3Numbers(A, arr_size, sum) "
   ]
  },
  {
   "cell_type": "code",
   "execution_count": null,
   "metadata": {
    "ExecuteTime": {
     "end_time": "2021-01-24T21:49:53.111110Z",
     "start_time": "2021-01-24T21:49:53.106120Z"
    }
   },
   "outputs": [],
   "source": []
  },
  {
   "cell_type": "code",
   "execution_count": null,
   "metadata": {},
   "outputs": [],
   "source": []
  },
  {
   "cell_type": "code",
   "execution_count": null,
   "metadata": {},
   "outputs": [],
   "source": []
  }
 ],
 "metadata": {
  "kernelspec": {
   "display_name": "Python 3",
   "language": "python",
   "name": "python3"
  },
  "language_info": {
   "codemirror_mode": {
    "name": "ipython",
    "version": 3
   },
   "file_extension": ".py",
   "mimetype": "text/x-python",
   "name": "python",
   "nbconvert_exporter": "python",
   "pygments_lexer": "ipython3",
   "version": "3.6.8"
  },
  "toc": {
   "base_numbering": 1,
   "nav_menu": {},
   "number_sections": true,
   "sideBar": true,
   "skip_h1_title": false,
   "title_cell": "Table of Contents",
   "title_sidebar": "Contents",
   "toc_cell": false,
   "toc_position": {},
   "toc_section_display": true,
   "toc_window_display": false
  }
 },
 "nbformat": 4,
 "nbformat_minor": 2
}
