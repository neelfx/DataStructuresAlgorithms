{
 "cells": [
  {
   "cell_type": "markdown",
   "metadata": {},
   "source": [
    "# Four Number Sum\n",
    "\n",
    "Write a function that takes in a non-empty array of distinct integers and an integer representing a target sum. The function should find all quadruplets in the array that sum up to the target sum and return a two-dimensional array of all these quadruplets in no particular order. \n",
    "\n",
    "If no four numbers sum up to the target sum, the function should return an empty array."
   ]
  },
  {
   "cell_type": "code",
   "execution_count": 1,
   "metadata": {
    "ExecuteTime": {
     "end_time": "2021-01-24T22:50:44.267293Z",
     "start_time": "2021-01-24T22:50:44.262292Z"
    }
   },
   "outputs": [],
   "source": [
    "array = [7, 6, 4, -1, 1, 2]\n",
    "targetSum = 16"
   ]
  },
  {
   "cell_type": "code",
   "execution_count": 2,
   "metadata": {
    "ExecuteTime": {
     "end_time": "2021-01-24T22:53:07.942033Z",
     "start_time": "2021-01-24T22:53:07.936035Z"
    }
   },
   "outputs": [],
   "source": [
    "def fourNumberSum(array, targetSum):\n",
    "    seen = {}\n",
    "    result = [] # quadruplets\n",
    "\n",
    "    # get Q(current pair of numbers) and check if P we have seen P\n",
    "    for i in range(1, len(array) - 1):\n",
    "        for j in range(i+1, len(array)):\n",
    "            currentSum = array[i] + array[j]\n",
    "            difference = targetSum - currentSum\n",
    "\n",
    "            if difference in seen:\n",
    "                for pair in seen[difference]:\n",
    "                    result.append(pair + [array[i] , array[j]])\n",
    "        \n",
    "        # Add P(pair of numbers previously seen)\n",
    "        for k in range(i):\n",
    "            currentSum = array[k] + array[i]\n",
    "            if currentSum not in seen:\n",
    "                seen[currentSum] = []\n",
    "            seen[currentSum].append([array[k], array[i]])\n",
    "        \n",
    "    return result"
   ]
  },
  {
   "cell_type": "code",
   "execution_count": 3,
   "metadata": {
    "ExecuteTime": {
     "end_time": "2021-01-24T22:53:22.185933Z",
     "start_time": "2021-01-24T22:53:22.172926Z"
    }
   },
   "outputs": [
    {
     "data": {
      "text/plain": [
       "[[7, 6, 4, -1], [7, 6, 1, 2]]"
      ]
     },
     "execution_count": 3,
     "metadata": {},
     "output_type": "execute_result"
    }
   ],
   "source": [
    "fourNumberSum(array, targetSum)"
   ]
  },
  {
   "cell_type": "code",
   "execution_count": null,
   "metadata": {},
   "outputs": [],
   "source": []
  },
  {
   "cell_type": "code",
   "execution_count": null,
   "metadata": {},
   "outputs": [],
   "source": []
  }
 ],
 "metadata": {
  "kernelspec": {
   "display_name": "Python 3",
   "language": "python",
   "name": "python3"
  },
  "language_info": {
   "codemirror_mode": {
    "name": "ipython",
    "version": 3
   },
   "file_extension": ".py",
   "mimetype": "text/x-python",
   "name": "python",
   "nbconvert_exporter": "python",
   "pygments_lexer": "ipython3",
   "version": "3.6.8"
  },
  "toc": {
   "base_numbering": 1,
   "nav_menu": {},
   "number_sections": true,
   "sideBar": true,
   "skip_h1_title": false,
   "title_cell": "Table of Contents",
   "title_sidebar": "Contents",
   "toc_cell": false,
   "toc_position": {},
   "toc_section_display": true,
   "toc_window_display": false
  }
 },
 "nbformat": 4,
 "nbformat_minor": 2
}
