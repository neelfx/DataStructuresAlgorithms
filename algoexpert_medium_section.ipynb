{
 "cells": [
  {
   "cell_type": "markdown",
   "metadata": {},
   "source": [
    "# Three Number Sum\n",
    "\n",
    "Write a function that takes in a non-empty array of distinct integers and an integer representing a target sum. The function should find all triplets in the array that sum up to the target sum and return a two-dimensional array of all these triplets. The numbers in each triplet should be ordered in ascending order, and the triplets should be ordered in ascending order with respect to the numbers they hold.\n",
    "\n",
    "If no three numbers sum up to the target sum, the function should return an empty array."
   ]
  },
  {
   "cell_type": "code",
   "execution_count": 1,
   "metadata": {
    "ExecuteTime": {
     "end_time": "2021-01-24T22:39:31.343146Z",
     "start_time": "2021-01-24T22:39:31.336147Z"
    }
   },
   "outputs": [],
   "source": [
    "array = [12, 3, 1, 2, -6, -5, -8, 6]\n",
    "targetSum = 0"
   ]
  },
  {
   "cell_type": "code",
   "execution_count": 2,
   "metadata": {
    "ExecuteTime": {
     "end_time": "2021-01-24T22:39:32.293612Z",
     "start_time": "2021-01-24T22:39:32.250609Z"
    }
   },
   "outputs": [
    {
     "name": "stdout",
     "output_type": "stream",
     "text": [
      "Triplet is 4 ,  8 ,  10\n"
     ]
    },
    {
     "data": {
      "text/plain": [
       "True"
      ]
     },
     "execution_count": 2,
     "metadata": {},
     "output_type": "execute_result"
    }
   ],
   "source": [
    "def find3Numbers(A, arr_size, sum): \n",
    "  \n",
    "    # Sort the elements  \n",
    "    A.sort() \n",
    "  \n",
    "    # Now fix the first element  \n",
    "    # one by one and find the \n",
    "    # other two elements  \n",
    "    for i in range(0, arr_size-2): \n",
    "      \n",
    "  \n",
    "        # To find the other two elements, \n",
    "        # start two index variables from \n",
    "        # two corners of the array and \n",
    "        # move them toward each other \n",
    "          \n",
    "        # index of the first element \n",
    "        # in the remaining elements \n",
    "        l = i + 1 \n",
    "          \n",
    "        # index of the last element \n",
    "        r = arr_size-1 \n",
    "        while (l < r): \n",
    "          \n",
    "            if( A[i] + A[l] + A[r] == sum): \n",
    "                print(\"Triplet is\", A[i],  \n",
    "                     ', ', A[l], ', ', A[r]); \n",
    "                return True\n",
    "              \n",
    "            elif (A[i] + A[l] + A[r] < sum): \n",
    "                l += 1\n",
    "            else: # A[i] + A[l] + A[r] > sum \n",
    "                r -= 1\n",
    "  \n",
    "    # If we reach here, then \n",
    "    # no triplet was found \n",
    "    return False\n",
    "  \n",
    "# Driver program to test above function  \n",
    "A = [1, 4, 45, 6, 10, 8] \n",
    "sum = 22\n",
    "arr_size = len(A) \n",
    "  \n",
    "find3Numbers(A, arr_size, sum) "
   ]
  },
  {
   "cell_type": "code",
   "execution_count": null,
   "metadata": {
    "ExecuteTime": {
     "end_time": "2021-01-24T21:49:53.111110Z",
     "start_time": "2021-01-24T21:49:53.106120Z"
    }
   },
   "outputs": [],
   "source": []
  },
  {
   "cell_type": "markdown",
   "metadata": {},
   "source": [
    "# Smallest Difference\n",
    "\n",
    "Write a function that takes in two non-empty arrays of integers, find the pair of numbers(one from each rray) whose absolute difference is closest to zero, and returns an array containing these two numbers, with the number from the first array in the first position.\n",
    "\n",
    "Note that the absolute difference of two integers is the distance between them on the real number line. For example, the absolute difference of -5 and 5 is 10, and the absolute difference of -5 and -4 is 1.\n",
    "\n",
    "You can assume that there will only be one pair of numbers with the smallest difference."
   ]
  },
  {
   "cell_type": "code",
   "execution_count": 11,
   "metadata": {
    "ExecuteTime": {
     "end_time": "2021-01-24T23:14:35.611965Z",
     "start_time": "2021-01-24T23:14:35.606963Z"
    }
   },
   "outputs": [],
   "source": [
    "import sys\n",
    "arrayOne = [-1, 5, 10, 20, 28, 3]\n",
    "arrayTwo = [26, 134, 135, 15, 17]"
   ]
  },
  {
   "cell_type": "code",
   "execution_count": 9,
   "metadata": {
    "ExecuteTime": {
     "end_time": "2021-01-24T23:14:11.010188Z",
     "start_time": "2021-01-24T23:14:11.004208Z"
    }
   },
   "outputs": [],
   "source": [
    "# function to calculate \n",
    "# Small result between \n",
    "# two arrays \n",
    "def findSmallestDifference(A, B): \n",
    "    m = len(A) \n",
    "    n = len(B) \n",
    "    # Sort both arrays  \n",
    "    # using sort function \n",
    "    A.sort() \n",
    "    B.sort() \n",
    "  \n",
    "    a = 0\n",
    "    b = 0\n",
    "  \n",
    "    # Initialize result as max value \n",
    "    result = sys.maxsize \n",
    "  \n",
    "    # Scan Both Arrays upto \n",
    "    # sizeof of the Arrays \n",
    "    while (a < m and b < n): \n",
    "      \n",
    "        if (abs(A[a] - B[b]) < result): \n",
    "            result = abs(A[a] - B[b]) \n",
    "  \n",
    "        # Move Smaller Value \n",
    "        if (A[a] < B[b]): \n",
    "            a += 1\n",
    "  \n",
    "        else: \n",
    "            b += 1\n",
    "    # return final sma result \n",
    "    return result "
   ]
  },
  {
   "cell_type": "code",
   "execution_count": 10,
   "metadata": {
    "ExecuteTime": {
     "end_time": "2021-01-24T23:14:11.492190Z",
     "start_time": "2021-01-24T23:14:11.486198Z"
    }
   },
   "outputs": [
    {
     "data": {
      "text/plain": [
       "2"
      ]
     },
     "execution_count": 10,
     "metadata": {},
     "output_type": "execute_result"
    }
   ],
   "source": [
    "findSmallestDifference(arrayOne, arrayTwo)"
   ]
  },
  {
   "cell_type": "markdown",
   "metadata": {},
   "source": [
    "# Move Element To End"
   ]
  },
  {
   "attachments": {
    "image.png": {
     "image/png": "[encoded data removed]"
    }
   },
   "cell_type": "markdown",
   "metadata": {},
   "source": [
    "![image.png](attachment:image.png)"
   ]
  },
  {
   "cell_type": "code",
   "execution_count": null,
   "metadata": {},
   "outputs": [],
   "source": [
    "def moveElementToEnd(array,  toMove):\n",
    "    i = 0\n",
    "    j = len(array) - 1\n",
    "    while i < j:\n",
    "        while i < j and array[j] == toMove:\n",
    "            j -= 1\n",
    "            if array[i] == toMove:\n",
    "                array[i], array[j] = array[j], array[i]\n",
    "            i += 1\n",
    "        return array"
   ]
  }
 ],
 "metadata": {
  "kernelspec": {
   "display_name": "Python 3",
   "language": "python",
   "name": "python3"
  },
  "language_info": {
   "codemirror_mode": {
    "name": "ipython",
    "version": 3
   },
   "file_extension": ".py",
   "mimetype": "text/x-python",
   "name": "python",
   "nbconvert_exporter": "python",
   "pygments_lexer": "ipython3",
   "version": "3.6.8"
  },
  "toc": {
   "base_numbering": 1,
   "nav_menu": {},
   "number_sections": true,
   "sideBar": true,
   "skip_h1_title": false,
   "title_cell": "Table of Contents",
   "title_sidebar": "Contents",
   "toc_cell": false,
   "toc_position": {},
   "toc_section_display": true,
   "toc_window_display": false
  }
 },
 "nbformat": 4,
 "nbformat_minor": 2
}
